{
 "cells": [
  {
   "cell_type": "markdown",
   "id": "2517ec93",
   "metadata": {},
   "source": [
    "# PoR Viewer.ipynb\n",
    "\n",
    "This notebook visualizes Point of Resonance (PoR) model outputs:\n",
    "- Existence Equation: `E = Q × S_q × t`\n",
    "- Phase Gradient: `dΦ/dt = k × E × S^γ`\n",
    "- Collapse Frequency Curve: `λ · e^(−λt)`"
   ]
  },
  {
   "cell_type": "code",
   "execution_count": null,
   "id": "2ca0fcc8",
   "metadata": {},
   "outputs": [],
   "source": [
    "import numpy as np\n",
    "import pandas as pd\n",
    "import matplotlib.pyplot as plt"
   ]
  },
  {
   "cell_type": "code",
   "execution_count": null,
   "id": "2e4663d4",
   "metadata": {},
   "outputs": [],
   "source": [
    "# Sample PoR data\n",
    "questions = [\"What is presence?\", \"Can AI choose?\", \"Is structure meaningful?\"]\n",
    "Q_strengths = [0.7, 0.9, 0.5]\n",
    "semantic_space = [0.6, 0.8, 0.4]\n",
    "time_values = [0.9, 0.7, 0.85]\n",
    "\n",
    "existence = [q * s * t for q, s, t in zip(Q_strengths, semantic_space, time_values)]"
   ]
  },
  {
   "cell_type": "code",
   "execution_count": null,
   "id": "e29eab35",
   "metadata": {},
   "outputs": [],
   "source": [
    "def phase_gradient(E, S, k=1.0, gamma=1.0):\n",
    "    return k * E * (S ** gamma)\n",
    "\n",
    "phase_rates = [phase_gradient(e, s) for e, s in zip(existence, semantic_space)]"
   ]
  },
  {
   "cell_type": "code",
   "execution_count": null,
   "id": "caff393f",
   "metadata": {},
   "outputs": [],
   "source": [
    "# Collapse frequency curve\n",
    "lam = 0.8\n",
    "t_range = np.linspace(0, 5, 100)\n",
    "collapse_freq = lam * np.exp(-lam * t_range)"
   ]
  },
  {
   "cell_type": "code",
   "execution_count": null,
   "id": "3c65df7f",
   "metadata": {},
   "outputs": [],
   "source": [
    "plt.figure(figsize=(6, 4))\n",
    "plt.bar(questions, existence, color='skyblue')\n",
    "plt.title('PoR Existence: E = Q × S_q × t')\n",
    "plt.ylabel('Existence (E)')\n",
    "plt.show()"
   ]
  },
  {
   "cell_type": "code",
   "execution_count": null,
   "id": "6d6bf011",
   "metadata": {},
   "outputs": [],
   "source": [
    "plt.figure(figsize=(6, 4))\n",
    "plt.plot(t_range, collapse_freq, color='darkred')\n",
    "plt.title('PoR Collapse Frequency (λ = 0.8)')\n",
    "plt.xlabel('Time (t)')\n",
    "plt.ylabel('Collapse Rate')\n",
    "plt.grid(True)\n",
    "plt.show()"
   ]
  },
  {
   "cell_type": "code",
   "execution_count": null,
   "id": "b5de6d63",
   "metadata": {},
   "outputs": [],
   "source": [
    "plt.figure(figsize=(6, 4))\n",
    "plt.bar(questions, phase_rates, color='lightgreen')\n",
    "plt.title('PoR Phase Gradient: dΦ/dt')\n",
    "plt.ylabel('Expansion Speed')\n",
    "plt.show()"
   ]
  },
  {
   "cell_type": "code",
   "execution_count": null,
   "id": "c176be63",
   "metadata": {},
   "outputs": [],
   "source": [
    "pd.DataFrame({\n",
    "    'question': questions,\n",
    "    'Q': Q_strengths,\n",
    "    'S_q': semantic_space,\n",
    "    't': time_values,\n",
    "    'E': existence,\n",
    "    'dΦ/dt': phase_rates\n",
    "})"
   ]
  }
 ],
 "metadata": {},
 "nbformat": 4,
 "nbformat_minor": 5
}
